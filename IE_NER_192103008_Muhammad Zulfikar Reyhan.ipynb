{
 "cells": [
  {
   "cell_type": "markdown",
   "id": "7751c70d",
   "metadata": {},
   "source": [
    "# Tugas Data Mining II\n",
    "Nama : Muhammad Zulfikar Reyhan\n",
    "NIM : 192103008\n",
    "Program studi : Sistem Informasi"
   ]
  },
  {
   "cell_type": "markdown",
   "id": "e7550630",
   "metadata": {},
   "source": [
    "# #SUMBER BELAJAR\n",
    "https://www.pythonindo.com/regular-expression/"
   ]
  },
  {
   "cell_type": "code",
   "execution_count": 1,
   "id": "adecca51",
   "metadata": {},
   "outputs": [],
   "source": [
    "import re"
   ]
  },
  {
   "cell_type": "code",
   "execution_count": 2,
   "id": "cf07d230",
   "metadata": {},
   "outputs": [],
   "source": [
    "iklan_1 = \"Dijual Rumah dengan yang berlokasi di Rawa Barat, Bintaro, Tangerang, Banten. Lokasi sangat strategis 5 menit ke: Stasiun Sudimara, Pasar Tradisional Sudimara, RS Ichsan Medical Centre Bintaro, Sekolah Budi Mulia Dua Bintaro, McDonald’s sektor 9. 10 menit ke: Exit tol Pondok Aren, Bintaro Jaya Xchange, Lotte Mart, RS Premier Bintaro, Tol Bintaro – BSD, Sekolah Al-Azhar, Sekolah Penabur, Kampus Universitas Pembangunan Jaya, Pasar Modern Bintaro. Luas Bangunan: 75 m², Luas Tanah: 60 m², Harga: Rp 18.982.217 per m²/ Rp1,3 M, Listrik: 2200 watt. Harga Perdana Masih Promo 1-1,7M-an, Free BPHTB, Notaris Fasilitas: Security 24 jam, CCTV, Instalasi Listrik Underground, Bio Septic Tank, Community Pool. Contact Person: Dewa Nugraha. Telp: +6285876543. Email: dewa@gmail.com.\"\n",
    "iklan_2 = \"Di jual Rumah yang berlokasi di Sentul City, Bogor. Luas Bangunan: 80 m², Luas Tanah: 90 m², Harga: Rp8.000.000 per m² / Rp3,1 M, Interior tidak berperabot. Sebuah nuansa baru bagi kehidupan Anda yang menawarkan keasrian alam berpadu dengan rancangan hunian berarsitektur eksklusif, artistik, dan elegan. Lokasi strategis, bebas macet, dekat akses pintu tol, 5 menit ke kota Bogor, 20 menit ke Jakarta. Kontur tanah berbukit, bebas banjir, udara bersih, sejuk, dan segar. Dekat dengan tempat ibadah, bank, apartemen, hotel, objek wisata, jalur angkutan umum, dan arena olahraga. Fasilitas One gate dengan security 24 jam. Contact Person: Dwi Arini Telp: +6285879842. email: dwi@gmail.com.\""
   ]
  },
  {
   "cell_type": "code",
   "execution_count": 3,
   "id": "bb84c8c1",
   "metadata": {},
   "outputs": [
    {
     "data": {
      "text/plain": [
       "'Dewa Nugraha'"
      ]
     },
     "execution_count": 3,
     "metadata": {},
     "output_type": "execute_result"
    }
   ],
   "source": [
    "#nama iklan 1\n",
    "#nama_orang = re.compile(r'Person: (.*) Telp(.*)')\n",
    "nama_orang = re.compile(r'(Person:\\s)+(\\w+\\s\\w+)')\n",
    "nama1 = nama_orang.search(iklan_1)\n",
    "nama1.group(2)\n"
   ]
  },
  {
   "cell_type": "code",
   "execution_count": 4,
   "id": "3939394e",
   "metadata": {},
   "outputs": [
    {
     "data": {
      "text/plain": [
       "'Rawa Barat'"
      ]
     },
     "execution_count": 4,
     "metadata": {},
     "output_type": "execute_result"
    }
   ],
   "source": [
    "nama_tempat = re.compile(r'(di\\s)+(\\w+\\s\\w+)')\n",
    "tempat1 = nama_tempat.search(iklan_1)\n",
    "tempat1.group(2)"
   ]
  },
  {
   "cell_type": "code",
   "execution_count": 5,
   "id": "a8d2d0c3",
   "metadata": {},
   "outputs": [
    {
     "data": {
      "text/plain": [
       "'Luas Bangunan: 75 m²'"
      ]
     },
     "execution_count": 5,
     "metadata": {},
     "output_type": "execute_result"
    }
   ],
   "source": [
    "#luas bangunan , harga iklan 1\n",
    "#luas_bangunan = re.compile(r'Luas Bangunan: (.*)Luas Tanah: (.*).m²')\n",
    "luas_bangunan = re.compile(r'(Luas Bangunan:\\s)+(\\d+.m²)')\n",
    "luas1 = luas_bangunan.search(iklan_1)\n",
    "luas1.group()"
   ]
  },
  {
   "cell_type": "code",
   "execution_count": 6,
   "id": "1df8a249",
   "metadata": {},
   "outputs": [
    {
     "data": {
      "text/plain": [
       "'Luas Tanah: 60 m²'"
      ]
     },
     "execution_count": 6,
     "metadata": {},
     "output_type": "execute_result"
    }
   ],
   "source": [
    "#luas tanah , harga iklan 1\n",
    "luas_tanah = re.compile(r'(Luas Tanah:\\s)+(\\d+.m²)')\n",
    "tanah1 = luas_tanah.search(iklan_1)\n",
    "tanah1.group()"
   ]
  },
  {
   "cell_type": "code",
   "execution_count": 7,
   "id": "4df77f61",
   "metadata": {},
   "outputs": [
    {
     "data": {
      "text/plain": [
       "'+6285876543'"
      ]
     },
     "execution_count": 7,
     "metadata": {},
     "output_type": "execute_result"
    }
   ],
   "source": [
    "#nomor telpon iklan 1\n",
    "nomor_hp = re.compile(r'(\\+)+\\d+')\n",
    "nomor1 = nomor_hp.search(iklan_1)\n",
    "nomor1.group()"
   ]
  },
  {
   "cell_type": "code",
   "execution_count": 8,
   "id": "41bca565",
   "metadata": {},
   "outputs": [
    {
     "data": {
      "text/plain": [
       "'dewa@gmail.com'"
      ]
     },
     "execution_count": 8,
     "metadata": {},
     "output_type": "execute_result"
    }
   ],
   "source": [
    "#email iklan 1\n",
    "email_penjual = re.compile(r'([a-zA-Z0-9._%+-]+@[a-zA-Z0-9.-]+(\\.[a-zA-Z]{2,4}))')\n",
    "email1 = email_penjual.search(iklan_1)\n",
    "email1.group()"
   ]
  },
  {
   "cell_type": "code",
   "execution_count": 9,
   "id": "92030bdc",
   "metadata": {},
   "outputs": [
    {
     "data": {
      "text/plain": [
       "'Rp1,3 M'"
      ]
     },
     "execution_count": 9,
     "metadata": {},
     "output_type": "execute_result"
    }
   ],
   "source": [
    "#harga iklan 1\n",
    "harga_iklan = re.compile(r'(Rp)+(\\d\\S\\d\\s\\w)')\n",
    "harga1 = harga_iklan.search(iklan_1)\n",
    "harga1.group()"
   ]
  },
  {
   "cell_type": "code",
   "execution_count": 10,
   "id": "ad96c6db",
   "metadata": {},
   "outputs": [
    {
     "data": {
      "text/plain": [
       "'Dwi Arini'"
      ]
     },
     "execution_count": 10,
     "metadata": {},
     "output_type": "execute_result"
    }
   ],
   "source": [
    "#nama iklan 2\n",
    "nama2 = nama_orang.search(iklan_2)\n",
    "nama2.group(2)\n"
   ]
  },
  {
   "cell_type": "code",
   "execution_count": 11,
   "id": "b1d86ed4",
   "metadata": {},
   "outputs": [
    {
     "data": {
      "text/plain": [
       "'Sentul City'"
      ]
     },
     "execution_count": 11,
     "metadata": {},
     "output_type": "execute_result"
    }
   ],
   "source": [
    "#lokasi iklan 2\n",
    "tempat2 = nama_tempat.search(iklan_2)\n",
    "tempat2.group(2)"
   ]
  },
  {
   "cell_type": "code",
   "execution_count": 12,
   "id": "1a9bb738",
   "metadata": {},
   "outputs": [
    {
     "data": {
      "text/plain": [
       "'Luas Bangunan: 80 m²'"
      ]
     },
     "execution_count": 12,
     "metadata": {},
     "output_type": "execute_result"
    }
   ],
   "source": [
    "#luas Bangunan iklan 2\n",
    "luas2 = luas_bangunan.search(iklan_2)\n",
    "luas2.group(0)"
   ]
  },
  {
   "cell_type": "code",
   "execution_count": 13,
   "id": "e0abdf47",
   "metadata": {},
   "outputs": [
    {
     "data": {
      "text/plain": [
       "'Luas Tanah: 90 m²'"
      ]
     },
     "execution_count": 13,
     "metadata": {},
     "output_type": "execute_result"
    }
   ],
   "source": [
    "#luas tanah iklan 2\n",
    "tanah2 = luas_tanah.search(iklan_2)\n",
    "tanah2.group()"
   ]
  },
  {
   "cell_type": "code",
   "execution_count": 14,
   "id": "6063b784",
   "metadata": {
    "scrolled": true
   },
   "outputs": [
    {
     "data": {
      "text/plain": [
       "'+6285879842'"
      ]
     },
     "execution_count": 14,
     "metadata": {},
     "output_type": "execute_result"
    }
   ],
   "source": [
    "#nomor telpon iklan 2\n",
    "nomor2 = nomor_hp.search(iklan_2)\n",
    "nomor2.group()"
   ]
  },
  {
   "cell_type": "code",
   "execution_count": 15,
   "id": "6c3ee23a",
   "metadata": {},
   "outputs": [
    {
     "data": {
      "text/plain": [
       "'dwi@gmail.com'"
      ]
     },
     "execution_count": 15,
     "metadata": {},
     "output_type": "execute_result"
    }
   ],
   "source": [
    "#email iklan 2\n",
    "email2 = email_penjual.search(iklan_2)\n",
    "email2.group()"
   ]
  },
  {
   "cell_type": "code",
   "execution_count": 16,
   "id": "37d2c297",
   "metadata": {},
   "outputs": [
    {
     "data": {
      "text/plain": [
       "'Rp3,1 M'"
      ]
     },
     "execution_count": 16,
     "metadata": {},
     "output_type": "execute_result"
    }
   ],
   "source": [
    "#harga iklan 2\n",
    "harga2 = harga_iklan.search(iklan_2)\n",
    "harga2.group()"
   ]
  },
  {
   "cell_type": "code",
   "execution_count": 17,
   "id": "da2bf2f0",
   "metadata": {
    "scrolled": true
   },
   "outputs": [
    {
     "name": "stdout",
     "output_type": "stream",
     "text": [
      "Pada iklan 1\n",
      "Nama penjual adalah : Dewa Nugraha\n",
      "Berlokasi di Rawa Barat\n",
      "Nomor hp :+6285876543\n",
      "Email :dewa@gmail.com\n",
      "Luas Bangunan: 75 m²\n",
      "Luas Tanah: 60 m²\n",
      "Harga :Rp1,3 M\n"
     ]
    }
   ],
   "source": [
    "print(\"Pada iklan 1\")\n",
    "print(\"Nama penjual adalah : \"+nama1.group(2))\n",
    "print(\"Berlokasi \"+tempat1.group())\n",
    "print(\"Nomor hp :\"+nomor1.group())\n",
    "print(\"Email :\"+email1.group())\n",
    "print(luas1.group())\n",
    "print(tanah1.group())\n",
    "print(\"Harga :\"+harga1.group())"
   ]
  },
  {
   "cell_type": "code",
   "execution_count": 18,
   "id": "4a74c88c",
   "metadata": {},
   "outputs": [
    {
     "name": "stdout",
     "output_type": "stream",
     "text": [
      "Pada iklan 2\n",
      "Nama penjual adalah : Dwi Arini\n",
      "Berlokasi di Sentul City\n",
      "Nomor hp :+6285879842\n",
      "Email :dwi@gmail.com\n",
      "Luas Bangunan: 80 m²\n",
      "Luas Tanah: 90 m²\n",
      "Harga :Rp3,1 M\n"
     ]
    }
   ],
   "source": [
    "print(\"Pada iklan 2\")\n",
    "print(\"Nama penjual adalah : \"+nama2.group(2))\n",
    "print(\"Berlokasi \"+tempat2.group())\n",
    "print(\"Nomor hp :\"+nomor2.group())\n",
    "print(\"Email :\"+email2.group())\n",
    "print(luas2.group())\n",
    "print(tanah2.group())\n",
    "print(\"Harga :\"+harga2.group())"
   ]
  },
  {
   "cell_type": "code",
   "execution_count": null,
   "id": "90d020b9",
   "metadata": {},
   "outputs": [],
   "source": []
  }
 ],
 "metadata": {
  "kernelspec": {
   "display_name": "Python 3",
   "language": "python",
   "name": "python3"
  },
  "language_info": {
   "codemirror_mode": {
    "name": "ipython",
    "version": 3
   },
   "file_extension": ".py",
   "mimetype": "text/x-python",
   "name": "python",
   "nbconvert_exporter": "python",
   "pygments_lexer": "ipython3",
   "version": "3.8.8"
  }
 },
 "nbformat": 4,
 "nbformat_minor": 5
}
